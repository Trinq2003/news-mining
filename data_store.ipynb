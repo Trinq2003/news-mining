{
 "cells": [
  {
   "cell_type": "code",
   "execution_count": 2,
   "metadata": {},
   "outputs": [
    {
     "name": "stdout",
     "output_type": "stream",
     "text": [
      "All articles have been dumped into 'all_articles.json'.\n"
     ]
    }
   ],
   "source": [
    "import os\n",
    "import json\n",
    "\n",
    "# Define the path to the dataset folder\n",
    "dataset_folder = './dataset'\n",
    "\n",
    "# Initialize an empty list to store all articles\n",
    "all_articles = []\n",
    "\n",
    "# Iterate through all the subfolders and files in the dataset folder\n",
    "for root, dirs, files in os.walk(dataset_folder):\n",
    "    for file in files:\n",
    "        # Check if the file is 'articles.json'\n",
    "        if file == 'articles':\n",
    "            # Get the full path to the 'articles.json' file\n",
    "            file_path = os.path.join(root, file)\n",
    "            \n",
    "            # Load the contents of the 'articles.json' file\n",
    "            with open(file_path, 'r') as f:\n",
    "                data = json.load(f)\n",
    "                \n",
    "                # Get the 'articles' array from the loaded data\n",
    "                articles = data['articles']\n",
    "                \n",
    "                # Extend the 'all_articles' list with the articles from the current file\n",
    "                all_articles.extend(articles)\n",
    "\n",
    "# Create a dictionary with the total number of articles and the articles array\n",
    "all_articles_data = {\n",
    "    'number': len(all_articles),\n",
    "    'articles': all_articles\n",
    "}\n",
    "\n",
    "# Define the path to the output file (all_articles.json)\n",
    "output_file = 'all_articles.json'\n",
    "\n",
    "# Dump the all_articles_data dictionary into the output file\n",
    "with open(output_file, 'w') as f:\n",
    "    json.dump(all_articles_data, f)\n",
    "\n",
    "print(f\"All articles have been dumped into '{output_file}'.\")"
   ]
  },
  {
   "cell_type": "code",
   "execution_count": null,
   "metadata": {},
   "outputs": [],
   "source": []
  }
 ],
 "metadata": {
  "kernelspec": {
   "display_name": "ds",
   "language": "python",
   "name": "python3"
  },
  "language_info": {
   "codemirror_mode": {
    "name": "ipython",
    "version": 3
   },
   "file_extension": ".py",
   "mimetype": "text/x-python",
   "name": "python",
   "nbconvert_exporter": "python",
   "pygments_lexer": "ipython3",
   "version": "3.11.5"
  }
 },
 "nbformat": 4,
 "nbformat_minor": 2
}
